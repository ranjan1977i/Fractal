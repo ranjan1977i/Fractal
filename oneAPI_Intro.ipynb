{
 "cells": [
  {
   "cell_type": "markdown",
   "metadata": {},
   "source": [
    "## Learning Objectives\n",
    "\n",
    "* Showing Different Fractals with DPC++\n",
    "\n",
    "* Understand the __Data Parallel C++ (DPC++)__ language and programming model\n",
    "\n"
   ]
  },
  {
   "cell_type": "markdown",
   "metadata": {},
   "source": [
    "## Fractals and Mandelbrot\n",
    "It is one of the most amazing discoveries in the realm of mathematics that not only does the simple equation Zn+1 = Zn2 + C create the infinitely complex Mandelbrot Set, but we can also find the same iconic shape in the patterns created by many other equations. In fact, the phenomenon of Mandelbrot Universality means that anytime we iterate a function that in some portion, at some scale, resembles the parabolic function Z2, then we will find small copies of the Mandelbrot Set in the map of that function.\n",
    "\n",
    "### oneAPI Distribution\n",
    "Intel&reg; oneAPI toolkits are available via multiple distribution channels:\n",
    "* Local product installation: install the oneAPI toolkits from the __Intel® Developer Zone__.\n",
    "* Install from containers or repositories: install the oneAPI toolkits from one of several supported\n",
    "containers or repositories.\n",
    "* Pre-installed in the __Intel® DevCloud__: a free development sandbox for access to the latest Intel® SVMS hardware and select oneAPI toolkits. "
   ]
  },
  {
   "cell_type": "markdown",
   "metadata": {},
   "source": [
    "## Tricorn(The Conjugate of mandelbrot)\n",
    "Conjugate of mandelbrot\n",
    "the tricorn, sometimes called the Mandelbar set, is a fractal defined in a similar way to the Mandelbrot set, but using the mapping \n",
    "\n",
    "Conj(Z^2 + C)\n",
    "\n",
    "Where Z is the complex number\n",
    "\n",
    "\n",
    "<img src=\"Assets/mandelbrot1.png\">\n"
   ]
  },
  {
   "cell_type": "markdown",
   "metadata": {},
   "source": [
    "## Introducing oneAPI\n",
    "__oneAPI__ is a solution to deliver unified programming model to __simplify development__ across diverse architectures. It includes a unified and simplified language and libraries for expressing __parallelism__ and delivers uncompromised native high-level language performance across a range of hardware including __CPUs, GPUs, FPGAs__. oneAPI initiative is based on __industry standards and open specifications__ and is interoperable with existing HPC programming models.\n",
    "\n",
    "<img src=\"Assets/oneapi2.png\">\n"
   ]
  },
  {
   "cell_type": "markdown",
   "metadata": {},
   "source": [
    "***\n",
    "\n",
    "\n",
    "##  Editing the simple.cpp code\n",
    "The Jupyter cell below with the gray background can be edited in-place and saved.\n",
    "\n",
    "The first line of the cell contains the command **%%writefile 'simple.cpp'** This tells the input cell to save the contents of the cell into a file named 'simple.cpp' in your current directory (usually your home directory). As you edit the cell and run it in the Jupyter notebook, it will save your changes into that file.\n",
    "\n",
    "The code below is some simple DPC++ code to get you started in the DevCloud environment. Simply inspect the code - there are no modifications necessary. Run the first cell to create the file, then run the cell below it to compile and execute the code.\n",
    "1. Inspect the code cell below, then click run ▶ to save the code to a file\n",
    "2. Run ▶ the cell in the __Build and Run__ section below the code snippet to compile and execute the code in the saved file"
   ]
  },
  {
   "cell_type": "code",
   "execution_count": 3,
   "metadata": {},
   "outputs": [
    {
     "name": "stdout",
     "output_type": "stream",
     "text": [
      "Overwriting lab/simple.cpp\n"
     ]
    }
   ],
   "source": [
    "%%writefile lab/simple.cpp\n",
    "//==============================================================\n",
    "// Copyright © 2020 Intel Corporation\n",
    "//\n",
    "// SPDX-License-Identifier: MIT\n",
    "// =============================================================\n",
    "\n",
    "#include <chrono>\n",
    "#include <iomanip>\n",
    "#include <iostream>\n",
    "\n",
    "// dpc_common.hpp can be found in the dev-utilities include folder.\n",
    "// e.g., $ONEAPI_ROOT/dev-utilities/<version>/include/dpc_common.hpp\n",
    "#include \"dpc_common.hpp\"\n",
    "#include \"mandel.hpp\"\n",
    "\n",
    "using namespace std;\n",
    "using namespace sycl;\n",
    "\n",
    "void ShowDevice(queue &q) {\n",
    "  // Output platform and device information.\n",
    "  auto device = q.get_device();\n",
    "  auto p_name = device.get_platform().get_info<info::platform::name>();\n",
    "  cout << std::setw(20) << \"Platform Name: \" << p_name << \"\\n\";\n",
    "  auto p_version = device.get_platform().get_info<info::platform::version>();\n",
    "  cout << std::setw(20) << \"Platform Version: \" << p_version << \"\\n\";\n",
    "  auto d_name = device.get_info<info::device::name>();\n",
    "  cout << std::setw(20) << \"Device Name: \" << d_name << \"\\n\";\n",
    "  auto max_work_group = device.get_info<info::device::max_work_group_size>();\n",
    "  cout << std::setw(20) << \"Max Work Group: \" << max_work_group << \"\\n\";\n",
    "  auto max_compute_units = device.get_info<info::device::max_compute_units>();\n",
    "  cout << std::setw(20) << \"Max Compute Units: \" << max_compute_units << \"\\n\\n\";\n",
    "}\n",
    "\n",
    "void Execute(queue &q) {\n",
    "  // Demonstrate the Mandelbrot calculation serial and parallel.\n",
    "#ifdef MANDELBROT_USM\n",
    "  cout << \"Parallel Mandelbrot set using USM.\\n\";\n",
    "  MandelParallelUsm m_par(row_size, col_size, max_iterations, &q);\n",
    "#else\n",
    "  cout << \"Parallel Mandelbrot set using buffers.\\n\";\n",
    "  MandelParallel m_par(row_size, col_size, max_iterations);\n",
    "#endif\n",
    "\n",
    "  MandelSerial m_ser(row_size, col_size, max_iterations);\n",
    "\n",
    "  // Run the code once to trigger JIT.\n",
    "  m_par.Evaluate(q);\n",
    "\n",
    "  // Run the parallel version and time it.\n",
    "  dpc_common::TimeInterval t_par;\n",
    "  for (int i = 0; i < repetitions; ++i) m_par.Evaluate(q);\n",
    "  double parallel_time = t_par.Elapsed();\n",
    "\n",
    "  // Print the results.\n",
    "  m_par.Print();\n",
    "  m_par.WriteImage();\n",
    "\n",
    "  // Run the serial version.\n",
    "  dpc_common::TimeInterval t_ser;\n",
    "  m_ser.Evaluate();\n",
    "  double serial_time = t_ser.Elapsed();\n",
    "\n",
    "  // Report the results.\n",
    "  cout << std::setw(20) << \"Serial time: \" << serial_time << \"s\\n\";\n",
    "  cout << std::setw(20) << \"Parallel time: \" << (parallel_time / repetitions)\n",
    "       << \"s\\n\";\n",
    "\n",
    "  // Validate.\n",
    "  m_par.Verify(m_ser);\n",
    "}\n",
    "\n",
    "int main(int argc, char *argv[]) {\n",
    "  try {\n",
    "    // Create a queue on the default device. Set SYCL_DEVICE_TYPE environment\n",
    "    // variable to (CPU|GPU|FPGA|HOST) to change the device.\n",
    "    //queue q(default_selector{}, dpc_common::exception_handler);\n",
    "      queue q(gpu_selector{}, dpc_common::exception_handler);\n",
    "\n",
    "    // Display the device info.\n",
    "    ShowDevice(q);\n",
    "\n",
    "    // Compute Mandelbrot set.\n",
    "    Execute(q);\n",
    "  } catch (...) {\n",
    "    // Some other exception detected.\n",
    "    cout << \"Failed to compute Mandelbrot set.\\n\";\n",
    "    std::terminate();\n",
    "  }\n",
    "\n",
    "  cout << \"Successfully computed Mandelbrot set.\\n\";\n",
    "  return 0;\n",
    "}\n"
   ]
  },
  {
   "cell_type": "markdown",
   "metadata": {},
   "source": [
    "### Build and Run\n",
    "Select the cell below and click Run ▶ to compile and execute the code above:"
   ]
  },
  {
   "cell_type": "code",
   "execution_count": 1,
   "metadata": {},
   "outputs": [
    {
     "name": "stdout",
     "output_type": "stream",
     "text": [
      "Job has been submitted to Intel(R) DevCloud and will execute soon.\n",
      "\n",
      " If you do not see result in 60 seconds, please restart the Jupyter kernel:\n",
      " Kernel -> 'Restart Kernel and Clear All Outputs...' and then try again\n",
      "\n",
      "Job ID                    Name             User            Time Use S Queue\n",
      "------------------------- ---------------- --------------- -------- - -----\n",
      "798175.v-qsvr-1            ...ub-singleuser u60339          00:00:20 R jupyterhub     \n",
      "798187.v-qsvr-1            run_simple.sh    u60339                 0 Q batch          \n",
      "\n",
      "Waiting for Output ██████████████████████ Done⬇\n",
      "\n",
      "########################################################################\n",
      "#      Date:           Sat 20 Feb 2021 04:28:19 AM PST\n",
      "#    Job ID:           798187.v-qsvr-1.aidevcloud\n",
      "#      User:           u60339\n",
      "# Resources:           neednodes=1:gpu:ppn=2,nodes=1:gpu:ppn=2,walltime=06:00:00\n",
      "########################################################################\n",
      "\n",
      "## u60339 is compiling DPCPP_Essentials Module1 -- oneAPI Intro sample - 1 of 2 simple.cpp\n",
      "     Platform Name: Intel(R) Level-Zero\n",
      "  Platform Version: 1.0\n",
      "       Device Name: Intel(R) Graphics [0x4905]\n",
      "    Max Work Group: 512\n",
      " Max Compute Units: 96\n",
      "\n",
      "Parallel Mandelbrot set using buffers.\n",
      " Rendered image output to file: mandelbrot.png (output too large to display in text)\n",
      "       Serial time: 0.0374436s\n",
      "     Parallel time: 0.00114627s\n",
      "Successfully computed Mandelbrot set.\n",
      "\n",
      "########################################################################\n",
      "# End of output for job 798187.v-qsvr-1.aidevcloud\n",
      "# Date: Sat 20 Feb 2021 04:28:33 AM PST\n",
      "########################################################################\n",
      "\n",
      "In file included from lab/simple.cpp:14:\n",
      "lab/mandel.hpp:240:44: warning: loop not unrolled: the optimizer was unable to perform the requested transformation; the transformation might be disabled or specified as part of an unsupported transformation ordering [-Wpass-failed=transform-warning]\n",
      "      h.parallel_for(range<2>(rows, cols), [=](auto index) {\n",
      "                                           ^\n",
      "1 warning generated.\n",
      "Job Completed in 22 seconds.\n"
     ]
    }
   ],
   "source": [
    "! chmod 755 q; chmod 755 run_simple.sh;if [ -x \"$(command -v qsub)\" ]; then ./q run_simple.sh; else ./run_simple.sh; fi"
   ]
  },
  {
   "cell_type": "markdown",
   "metadata": {},
   "source": [
    "_If the Jupyter cells are not responsive or if they error out when you compile the code samples, please restart the Jupyter Kernel: \n",
    "\"Kernel->Restart Kernel and Clear All Outputs\" and compile the code samples again_"
   ]
  },
  {
   "cell_type": "markdown",
   "metadata": {},
   "source": []
  },
  {
   "cell_type": "markdown",
   "metadata": {},
   "source": []
  },
  {
   "cell_type": "markdown",
   "metadata": {},
   "source": [
    "\n"
   ]
  },
  {
   "cell_type": "markdown",
   "metadata": {},
   "source": []
  },
  {
   "cell_type": "markdown",
   "metadata": {},
   "source": []
  },
  {
   "cell_type": "markdown",
   "metadata": {},
   "source": [
    "\n",
    "\n"
   ]
  },
  {
   "cell_type": "markdown",
   "metadata": {},
   "source": []
  },
  {
   "cell_type": "markdown",
   "metadata": {},
   "source": []
  },
  {
   "cell_type": "markdown",
   "metadata": {},
   "source": [
    "## How to Compile & Run DPC++ program"
   ]
  },
  {
   "cell_type": "markdown",
   "metadata": {},
   "source": []
  },
  {
   "cell_type": "markdown",
   "metadata": {},
   "source": [
    "\n",
    "\n",
    "\n",
    "\n"
   ]
  },
  {
   "cell_type": "code",
   "execution_count": 5,
   "metadata": {},
   "outputs": [
    {
     "name": "stdout",
     "output_type": "stream",
     "text": [
      "Overwriting lab/simple-vector-incr.cpp\n"
     ]
    }
   ],
   "source": []
  },
  {
   "cell_type": "markdown",
   "metadata": {},
   "source": []
  },
  {
   "cell_type": "code",
   "execution_count": null,
   "metadata": {},
   "outputs": [
    {
     "name": "stdout",
     "output_type": "stream",
     "text": [
      "Job has been submitted to Intel(R) DevCloud and will execute soon.\n",
      "\n",
      " If you do not see result in 60 seconds, please restart the Jupyter kernel:\n",
      " Kernel -> 'Restart Kernel and Clear All Outputs...' and then try again\n",
      "\n",
      "Job ID                    Name             User            Time Use S Queue\n",
      "------------------------- ---------------- --------------- -------- - -----\n",
      "798175.v-qsvr-1            ...ub-singleuser u60339          00:01:02 R jupyterhub     \n",
      "798230.v-qsvr-1            ...ector-incr.sh u60339                 0 Q batch          \n",
      "\n",
      "Waiting for Output █████████████████████████████████████"
     ]
    }
   ],
   "source": []
  },
  {
   "cell_type": "markdown",
   "metadata": {},
   "source": [
    "_If the Jupyter cells are not responsive or if they error out when you compile the code samples, please restart the Jupyter Kernel: \n",
    "\"Kernel->Restart Kernel and Clear All Outputs\" and compile the code samples again_"
   ]
  },
  {
   "cell_type": "markdown",
   "metadata": {},
   "source": []
  },
  {
   "cell_type": "markdown",
   "metadata": {},
   "source": [
    "# Summary\n",
    "In this module you will have learned the following:\n",
    "* How oneAPI solves the challenges of programming in a heterogeneous world \n",
    "* Take advantage of oneAPI solutions to enable your workflows\n",
    "\n"
   ]
  },
  {
   "cell_type": "markdown",
   "metadata": {},
   "source": [
    "\n",
    "\n"
   ]
  },
  {
   "cell_type": "markdown",
   "metadata": {},
   "source": [
    "\n",
    "\n"
   ]
  },
  {
   "cell_type": "code",
   "execution_count": null,
   "metadata": {},
   "outputs": [],
   "source": []
  },
  {
   "cell_type": "markdown",
   "metadata": {},
   "source": []
  }
 ],
 "metadata": {
  "kernelspec": {
   "display_name": "Python 3.7 (Intel® oneAPI)",
   "language": "python",
   "name": "c009-intel_distribution_of_python_3_oneapi-beta05-python"
  },
  "language_info": {
   "codemirror_mode": {
    "name": "ipython",
    "version": 3
   },
   "file_extension": ".py",
   "mimetype": "text/x-python",
   "name": "python",
   "nbconvert_exporter": "python",
   "pygments_lexer": "ipython3",
   "version": "3.7.9"
  },
  "toc": {
   "base_numbering": 1,
   "nav_menu": {},
   "number_sections": true,
   "sideBar": true,
   "skip_h1_title": false,
   "title_cell": "Table of Contents",
   "title_sidebar": "Contents",
   "toc_cell": false,
   "toc_position": {
    "height": "525.6px",
    "left": "28px",
    "top": "137.8px",
    "width": "301.109px"
   },
   "toc_section_display": true,
   "toc_window_display": true
  },
  "widgets": {
   "application/vnd.jupyter.widget-state+json": {
    "state": {},
    "version_major": 2,
    "version_minor": 0
   }
  }
 },
 "nbformat": 4,
 "nbformat_minor": 4
}
